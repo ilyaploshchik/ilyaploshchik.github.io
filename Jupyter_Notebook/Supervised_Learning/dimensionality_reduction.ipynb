{
 "metadata": {
  "language_info": {
   "codemirror_mode": {
    "name": "ipython",
    "version": 3
   },
   "file_extension": ".py",
   "mimetype": "text/x-python",
   "name": "python",
   "nbconvert_exporter": "python",
   "pygments_lexer": "ipython3",
   "version": "3.9.4"
  },
  "orig_nbformat": 2,
  "kernelspec": {
   "name": "python394jvsc74a57bd0613fe122287fdb1a4092b1ec324ab5e18de9ec977608057b646301948d1df577",
   "display_name": "Python 3.9.4 64-bit (conda)"
  }
 },
 "nbformat": 4,
 "nbformat_minor": 2,
 "cells": [
  {
   "source": [
    "# Assignment 4: Unsupervised Learning\n",
    "### ip222gs"
   ],
   "cell_type": "markdown",
   "metadata": {}
  },
  {
   "source": [
    "## Exercise 2: Non-linear Dimensionality Reduction"
   ],
   "cell_type": "markdown",
   "metadata": {}
  },
  {
   "source": [
    "Function definition for summon mapping using loops"
   ],
   "cell_type": "markdown",
   "metadata": {}
  },
  {
   "cell_type": "code",
   "execution_count": 6,
   "metadata": {},
   "outputs": [],
   "source": [
    "def sammon(X, n_iter, thres, lr):\n",
    "    import numpy as np\n",
    "    from sklearn.metrics import pairwise_distances\n",
    "\n",
    "    np.random.seed(0) #define random values\n",
    "    y = np.random.rand(X.shape[0], 2) # create new random 2-d array with the lentgh of the original one\n",
    "\n",
    "    def divid(X1, X2):\n",
    "        dev = np.divide(X1, X2, where=X2 > 0.0001) # function for division, specifying the denominator limit\n",
    "        return dev  \n",
    "\n",
    "    dist_orig = pairwise_distances(X) # calculate pairwise distances for all elements in the orginal array\n",
    "\n",
    "    for iter in range(n_iter):\n",
    "\n",
    "        dist_new = pairwise_distances(y) # calculate pairwise distances for all elements in the new array\n",
    "        dev = divid((dist_new - dist_orig)**2, dist_orig) # division\n",
    "        stress = 1/dist_orig.sum() * dev.sum() # original stress function\n",
    "        print(stress)\n",
    "\n",
    "        if stress < thres:\n",
    "            break\n",
    "        else:\n",
    "\n",
    "            for i in range(y.shape[0]):\n",
    "                part_der = np.zeros(y.shape[1])\n",
    "                part_der_2 = np.zeros(y.shape[1]) \n",
    "\n",
    "                for j in range(y.shape[0]):\n",
    "                    if i==j:\n",
    "                        continue\n",
    "\n",
    "                    diff = (dist_orig[i,j] - dist_new[i,j])\n",
    "                    mult = (dist_orig[i,j] * dist_new[i,j])\n",
    "\n",
    "                    const = -2 * divid(np.ones_like(dist_orig[i, j]),  dist_orig[i, j]).sum() # define constant\n",
    "                    # calculate divisions for ease of calculations later\n",
    "                    dev_1 = divid(diff, mult)\n",
    "                    dev_2 = divid(np.ones_like(mult), mult)\n",
    "                    dev_3 = divid((dist_orig[i,j] - dist_new[i,j]), dist_new[i, j])\n",
    "\n",
    "                    part_der += const * dev_1.sum() * (y[i] - y[j]) # partial derivative 1st degree\n",
    "                    # Partial Derivative 2nd degree\n",
    "                    part_der_2 += const * dev_2.sum() * (diff - (divid((y[i] - y[j])**2, dist_new[i, j])*(1 + dev_3))).sum()\n",
    "\n",
    "                delta = part_der / np.abs(part_der_2) # delta\n",
    "                    \n",
    "                y[i] = y[i] - lr*delta # new array\n",
    "    return y"
   ]
  },
  {
   "source": [
    "Function has been stored in its own module for further use in Exercise 3"
   ],
   "cell_type": "markdown",
   "metadata": {}
  },
  {
   "source": [
    "Using loops for numpy arrays is not optimal solution. However, I did not succeed with the function using vectorized operations. <br>\n",
    "Providing code below. Comments appreciated."
   ],
   "cell_type": "markdown",
   "metadata": {}
  },
  {
   "cell_type": "code",
   "execution_count": 72,
   "metadata": {
    "tags": []
   },
   "outputs": [],
   "source": [
    "# def sammon(X, n_iter, thres, lr):\n",
    "\n",
    "#     np.random.seed(0) #define random values\n",
    "#     X_red = np.random.rand(X.shape[0], 2) # create new random 2-d array with the lentgh of the original one\n",
    "\n",
    "#     def divid(X1, X2):\n",
    "#         dev = np.divide(X1, X2, where=X2 > 0.0001) # function for division, specifying the denominator limit\n",
    "#         return dev  \n",
    "\n",
    "#     dist_orig = pairwise_distances(X) # calculate pairwise distances for all elements in the orginal array\n",
    "\n",
    "#     for iter in range(n_iter):\n",
    "\n",
    "#         dist_new = pairwise_distances(X_red) # calculate pairwise distances for all elements in the new array\n",
    "#         dev = divid((dist_new - dist_orig)**2, dist_orig) # division\n",
    "#         stress = 1/dist_orig.sum() * dev.sum() # original stress function\n",
    "\n",
    "#         while stress > thres: # define limit for loop\n",
    "\n",
    "#             const = -2 / dist_orig.sum() # define constant\n",
    "#             # calculate divisions for ease of calculations later\n",
    "#             dev_1 = divid((dist_orig - dist_new), np.matmul(dist_new, dist_orig))\n",
    "#             dev_2 = divid(1, (np.matmul(dist_new, dist_orig)))\n",
    "#             dev_3 = divid((dist_orig - dist_new), dist_new)\n",
    "#             # define substracton for ease of calculation later\n",
    "#             sub = np.subtract.outer(X_red,X_red).sum()/2\n",
    "\n",
    "\n",
    "#             part_der = const * dev_1.sum() * sub # partial derivative 1st degree\n",
    "#             # Partial Derivative 2nd degree\n",
    "#             part_der_2 = const * dev_2.sum() * (dist_orig - dist_new - (divid(sub**2, dist_new)*(1 + dev_3))).sum()\n",
    "    \n",
    "#             delta = part_der / np.abs(part_der_2) # delta\n",
    "    \n",
    "#             X_red = X_red - lr*delta # new array\n",
    "#     return X_red"
   ]
  }
 ]
}