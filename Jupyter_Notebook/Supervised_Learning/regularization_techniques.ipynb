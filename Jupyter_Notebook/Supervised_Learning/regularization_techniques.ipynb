{
 "metadata": {
  "language_info": {
   "codemirror_mode": {
    "name": "ipython",
    "version": 3
   },
   "file_extension": ".py",
   "mimetype": "text/x-python",
   "name": "python",
   "nbconvert_exporter": "python",
   "pygments_lexer": "ipython3",
   "version": "3.8.8"
  },
  "orig_nbformat": 2,
  "kernelspec": {
   "name": "python388jvsc74a57bd0613fe122287fdb1a4092b1ec324ab5e18de9ec977608057b646301948d1df577",
   "display_name": "Python 3.8.8 64-bit (conda)"
  }
 },
 "nbformat": 4,
 "nbformat_minor": 2,
 "cells": [
  {
   "source": [
    "# Assignment 2: Linear and logistic regression\n",
    "### ip222gs"
   ],
   "cell_type": "markdown",
   "metadata": {}
  },
  {
   "source": [
    "## Exercise 7: Insurances and regularization techniques"
   ],
   "cell_type": "markdown",
   "metadata": {}
  },
  {
   "cell_type": "code",
   "execution_count": 150,
   "metadata": {},
   "outputs": [],
   "source": [
    "# Import libraries\n",
    "import numpy as np\n",
    "import pandas as pd\n",
    "import matplotlib.pyplot as plt\n",
    "from sklearn.linear_model import LinearRegression\n",
    "from sklearn.linear_model import Lasso\n",
    "from sklearn.linear_model import Ridge\n",
    "from sklearn.model_selection import cross_validate\n",
    "from sklearn.model_selection import train_test_split\n",
    "from sklearn.model_selection import cross_val_score\n",
    "from sklearn.metrics import mean_squared_error\n",
    "from sklearn.metrics import r2_score\n",
    "from sklearn.preprocessing import StandardScaler\n",
    "from sklearn.preprocessing import PolynomialFeatures"
   ]
  },
  {
   "cell_type": "code",
   "execution_count": 2,
   "metadata": {},
   "outputs": [
    {
     "output_type": "execute_result",
     "data": {
      "text/plain": [
       "   age     sex     bmi  children smoker     region  shoesize      charges\n",
       "0   19  female  27.900         0    yes  southwest        36  16884.92400\n",
       "1   18    male  33.770         1     no  southeast        43   1725.55230\n",
       "2   28    male  33.000         3     no  southeast        43   4449.46200\n",
       "3   33    male  22.705         0     no  northwest        41  21984.47061\n",
       "4   32    male  28.880         0     no  northwest        42   3866.85520"
      ],
      "text/html": "<div>\n<style scoped>\n    .dataframe tbody tr th:only-of-type {\n        vertical-align: middle;\n    }\n\n    .dataframe tbody tr th {\n        vertical-align: top;\n    }\n\n    .dataframe thead th {\n        text-align: right;\n    }\n</style>\n<table border=\"1\" class=\"dataframe\">\n  <thead>\n    <tr style=\"text-align: right;\">\n      <th></th>\n      <th>age</th>\n      <th>sex</th>\n      <th>bmi</th>\n      <th>children</th>\n      <th>smoker</th>\n      <th>region</th>\n      <th>shoesize</th>\n      <th>charges</th>\n    </tr>\n  </thead>\n  <tbody>\n    <tr>\n      <th>0</th>\n      <td>19</td>\n      <td>female</td>\n      <td>27.900</td>\n      <td>0</td>\n      <td>yes</td>\n      <td>southwest</td>\n      <td>36</td>\n      <td>16884.92400</td>\n    </tr>\n    <tr>\n      <th>1</th>\n      <td>18</td>\n      <td>male</td>\n      <td>33.770</td>\n      <td>1</td>\n      <td>no</td>\n      <td>southeast</td>\n      <td>43</td>\n      <td>1725.55230</td>\n    </tr>\n    <tr>\n      <th>2</th>\n      <td>28</td>\n      <td>male</td>\n      <td>33.000</td>\n      <td>3</td>\n      <td>no</td>\n      <td>southeast</td>\n      <td>43</td>\n      <td>4449.46200</td>\n    </tr>\n    <tr>\n      <th>3</th>\n      <td>33</td>\n      <td>male</td>\n      <td>22.705</td>\n      <td>0</td>\n      <td>no</td>\n      <td>northwest</td>\n      <td>41</td>\n      <td>21984.47061</td>\n    </tr>\n    <tr>\n      <th>4</th>\n      <td>32</td>\n      <td>male</td>\n      <td>28.880</td>\n      <td>0</td>\n      <td>no</td>\n      <td>northwest</td>\n      <td>42</td>\n      <td>3866.85520</td>\n    </tr>\n  </tbody>\n</table>\n</div>"
     },
     "metadata": {},
     "execution_count": 2
    }
   ],
   "source": [
    "# read csv and save output as numpy array\n",
    "data = pd.read_csv('insurance.csv', delimiter=';')\n",
    "data.head() # print top 5 rows"
   ]
  },
  {
   "cell_type": "code",
   "execution_count": 3,
   "metadata": {},
   "outputs": [],
   "source": [
    "# Starting by applying feature standartization using built-in sklearn function on numerical columns (except columns \"charges\" which will be a target column)\n",
    "\n",
    "# https://www.analyticsvidhya.com/blog/2020/04/feature-scaling-machine-learning-normalization-standardization/\n",
    "\n",
    "num_cols = ['age', 'bmi', 'children', 'shoesize']\n",
    "\n",
    "data_scaled = data.copy()\n",
    "\n",
    "for i in num_cols:\n",
    "    # define scaling method\n",
    "    scale = StandardScaler().fit(data[[i]])\n",
    "    # transform data columns\n",
    "    data_scaled[i] = scale.transform(data[[i]])"
   ]
  },
  {
   "cell_type": "code",
   "execution_count": 4,
   "metadata": {},
   "outputs": [],
   "source": [
    "# Converting categorical variables into numerical arrays\n",
    "sexes = pd.get_dummies(data_scaled.sex)\n",
    "smokers = pd.get_dummies(data_scaled.smoker, prefix='smoker')\n",
    "regions = pd.get_dummies(data_scaled.region, prefix='region')"
   ]
  },
  {
   "cell_type": "code",
   "execution_count": 5,
   "metadata": {},
   "outputs": [],
   "source": [
    "# Concatenate arrays with existing dataframe, drop original categorical variables\n",
    "df = data_scaled.join([sexes, smokers, regions]).drop(columns=['sex', 'smoker', 'region'])"
   ]
  },
  {
   "cell_type": "code",
   "execution_count": 6,
   "metadata": {},
   "outputs": [
    {
     "output_type": "execute_result",
     "data": {
      "text/plain": [
       "age                 float64\n",
       "bmi                 float64\n",
       "children            float64\n",
       "shoesize            float64\n",
       "charges             float64\n",
       "female                uint8\n",
       "male                  uint8\n",
       "smoker_no             uint8\n",
       "smoker_yes            uint8\n",
       "region_northeast      uint8\n",
       "region_northwest      uint8\n",
       "region_southeast      uint8\n",
       "region_southwest      uint8\n",
       "dtype: object"
      ]
     },
     "metadata": {},
     "execution_count": 6
    }
   ],
   "source": [
    "# Check dataframe variable types\n",
    "df.dtypes"
   ]
  },
  {
   "cell_type": "code",
   "execution_count": 7,
   "metadata": {},
   "outputs": [
    {
     "output_type": "execute_result",
     "data": {
      "text/plain": [
       "                age           bmi      children      shoesize       charges  \\\n",
       "count  1.338000e+03  1.338000e+03  1.338000e+03  1.338000e+03   1338.000000   \n",
       "mean  -1.805565e-16 -2.124194e-16 -5.576008e-17  2.283508e-16  13270.422265   \n",
       "std    1.000374e+00  1.000374e+00  1.000374e+00  1.000374e+00  12110.011237   \n",
       "min   -1.509965e+00 -2.412011e+00 -9.086137e-01 -1.364052e+00   1121.873900   \n",
       "25%   -8.691547e-01 -7.164063e-01 -9.086137e-01 -7.568991e-01   4740.287150   \n",
       "50%   -1.474046e-02 -4.320880e-02 -7.876719e-02  1.538302e-01   9382.033000   \n",
       "75%    8.396738e-01  6.611572e-01  7.510793e-01  7.609831e-01  16639.912515   \n",
       "max    1.765289e+00  3.685522e+00  3.240619e+00  1.671713e+00  63770.428010   \n",
       "\n",
       "            female         male    smoker_no   smoker_yes  region_northeast  \\\n",
       "count  1338.000000  1338.000000  1338.000000  1338.000000       1338.000000   \n",
       "mean      0.494768     0.505232     0.795217     0.204783          0.242152   \n",
       "std       0.500160     0.500160     0.403694     0.403694          0.428546   \n",
       "min       0.000000     0.000000     0.000000     0.000000          0.000000   \n",
       "25%       0.000000     0.000000     1.000000     0.000000          0.000000   \n",
       "50%       0.000000     1.000000     1.000000     0.000000          0.000000   \n",
       "75%       1.000000     1.000000     1.000000     0.000000          0.000000   \n",
       "max       1.000000     1.000000     1.000000     1.000000          1.000000   \n",
       "\n",
       "       region_northwest  region_southeast  region_southwest  \n",
       "count       1338.000000       1338.000000       1338.000000  \n",
       "mean           0.242900          0.272048          0.242900  \n",
       "std            0.428995          0.445181          0.428995  \n",
       "min            0.000000          0.000000          0.000000  \n",
       "25%            0.000000          0.000000          0.000000  \n",
       "50%            0.000000          0.000000          0.000000  \n",
       "75%            0.000000          1.000000          0.000000  \n",
       "max            1.000000          1.000000          1.000000  "
      ],
      "text/html": "<div>\n<style scoped>\n    .dataframe tbody tr th:only-of-type {\n        vertical-align: middle;\n    }\n\n    .dataframe tbody tr th {\n        vertical-align: top;\n    }\n\n    .dataframe thead th {\n        text-align: right;\n    }\n</style>\n<table border=\"1\" class=\"dataframe\">\n  <thead>\n    <tr style=\"text-align: right;\">\n      <th></th>\n      <th>age</th>\n      <th>bmi</th>\n      <th>children</th>\n      <th>shoesize</th>\n      <th>charges</th>\n      <th>female</th>\n      <th>male</th>\n      <th>smoker_no</th>\n      <th>smoker_yes</th>\n      <th>region_northeast</th>\n      <th>region_northwest</th>\n      <th>region_southeast</th>\n      <th>region_southwest</th>\n    </tr>\n  </thead>\n  <tbody>\n    <tr>\n      <th>count</th>\n      <td>1.338000e+03</td>\n      <td>1.338000e+03</td>\n      <td>1.338000e+03</td>\n      <td>1.338000e+03</td>\n      <td>1338.000000</td>\n      <td>1338.000000</td>\n      <td>1338.000000</td>\n      <td>1338.000000</td>\n      <td>1338.000000</td>\n      <td>1338.000000</td>\n      <td>1338.000000</td>\n      <td>1338.000000</td>\n      <td>1338.000000</td>\n    </tr>\n    <tr>\n      <th>mean</th>\n      <td>-1.805565e-16</td>\n      <td>-2.124194e-16</td>\n      <td>-5.576008e-17</td>\n      <td>2.283508e-16</td>\n      <td>13270.422265</td>\n      <td>0.494768</td>\n      <td>0.505232</td>\n      <td>0.795217</td>\n      <td>0.204783</td>\n      <td>0.242152</td>\n      <td>0.242900</td>\n      <td>0.272048</td>\n      <td>0.242900</td>\n    </tr>\n    <tr>\n      <th>std</th>\n      <td>1.000374e+00</td>\n      <td>1.000374e+00</td>\n      <td>1.000374e+00</td>\n      <td>1.000374e+00</td>\n      <td>12110.011237</td>\n      <td>0.500160</td>\n      <td>0.500160</td>\n      <td>0.403694</td>\n      <td>0.403694</td>\n      <td>0.428546</td>\n      <td>0.428995</td>\n      <td>0.445181</td>\n      <td>0.428995</td>\n    </tr>\n    <tr>\n      <th>min</th>\n      <td>-1.509965e+00</td>\n      <td>-2.412011e+00</td>\n      <td>-9.086137e-01</td>\n      <td>-1.364052e+00</td>\n      <td>1121.873900</td>\n      <td>0.000000</td>\n      <td>0.000000</td>\n      <td>0.000000</td>\n      <td>0.000000</td>\n      <td>0.000000</td>\n      <td>0.000000</td>\n      <td>0.000000</td>\n      <td>0.000000</td>\n    </tr>\n    <tr>\n      <th>25%</th>\n      <td>-8.691547e-01</td>\n      <td>-7.164063e-01</td>\n      <td>-9.086137e-01</td>\n      <td>-7.568991e-01</td>\n      <td>4740.287150</td>\n      <td>0.000000</td>\n      <td>0.000000</td>\n      <td>1.000000</td>\n      <td>0.000000</td>\n      <td>0.000000</td>\n      <td>0.000000</td>\n      <td>0.000000</td>\n      <td>0.000000</td>\n    </tr>\n    <tr>\n      <th>50%</th>\n      <td>-1.474046e-02</td>\n      <td>-4.320880e-02</td>\n      <td>-7.876719e-02</td>\n      <td>1.538302e-01</td>\n      <td>9382.033000</td>\n      <td>0.000000</td>\n      <td>1.000000</td>\n      <td>1.000000</td>\n      <td>0.000000</td>\n      <td>0.000000</td>\n      <td>0.000000</td>\n      <td>0.000000</td>\n      <td>0.000000</td>\n    </tr>\n    <tr>\n      <th>75%</th>\n      <td>8.396738e-01</td>\n      <td>6.611572e-01</td>\n      <td>7.510793e-01</td>\n      <td>7.609831e-01</td>\n      <td>16639.912515</td>\n      <td>1.000000</td>\n      <td>1.000000</td>\n      <td>1.000000</td>\n      <td>0.000000</td>\n      <td>0.000000</td>\n      <td>0.000000</td>\n      <td>1.000000</td>\n      <td>0.000000</td>\n    </tr>\n    <tr>\n      <th>max</th>\n      <td>1.765289e+00</td>\n      <td>3.685522e+00</td>\n      <td>3.240619e+00</td>\n      <td>1.671713e+00</td>\n      <td>63770.428010</td>\n      <td>1.000000</td>\n      <td>1.000000</td>\n      <td>1.000000</td>\n      <td>1.000000</td>\n      <td>1.000000</td>\n      <td>1.000000</td>\n      <td>1.000000</td>\n      <td>1.000000</td>\n    </tr>\n  </tbody>\n</table>\n</div>"
     },
     "metadata": {},
     "execution_count": 7
    }
   ],
   "source": [
    "df.describe()"
   ]
  },
  {
   "cell_type": "code",
   "execution_count": 8,
   "metadata": {},
   "outputs": [],
   "source": [
    "# Split feature and target from the training dataset\n",
    "X = df.drop(columns = 'charges')\n",
    "y = df.charges"
   ]
  },
  {
   "cell_type": "code",
   "execution_count": 152,
   "metadata": {},
   "outputs": [],
   "source": [
    "# Define function for model cross-validation and model evaluation\n",
    "\n",
    "def func(function, X, y):\n",
    "    rmse = cross_val_score(function, X, y, cv=5, scoring='neg_root_mean_squared_error')\n",
    "    rmse = -np.round(np.mean(rmse))\n",
    "    score = cross_val_score(function, X, y, cv=5, scoring='r2')\n",
    "    score = np.round(np.mean(score), 3)\n",
    "    print(f'RMSE = {rmse} | R2 score = {score}')"
   ]
  },
  {
   "cell_type": "code",
   "execution_count": 105,
   "metadata": {},
   "outputs": [
    {
     "output_type": "stream",
     "name": "stdout",
     "text": [
      "Standard linear regression model\nRMSE = 6070.0 | R2 score = 0.747\n"
     ]
    }
   ],
   "source": [
    "# Define and evaluate baseline model\n",
    "linreg = LinearRegression()\n",
    "print('Standard linear regression model')\n",
    "func(linreg, X, y)"
   ]
  },
  {
   "cell_type": "code",
   "execution_count": 106,
   "metadata": {},
   "outputs": [
    {
     "output_type": "stream",
     "name": "stdout",
     "text": [
      "Lasso linear regression model\nRMSE = 6070.0 | R2 score = 0.747\n"
     ]
    }
   ],
   "source": [
    "# Define and evaluate Lasso regression model \n",
    "lasso = Lasso()\n",
    "print('Lasso linear regression model')\n",
    "func(lasso, X, y)"
   ]
  },
  {
   "cell_type": "code",
   "execution_count": 107,
   "metadata": {},
   "outputs": [
    {
     "output_type": "stream",
     "name": "stdout",
     "text": [
      "Ridge linear regression model\nRMSE = 6070.0 | R2 score = 0.747\n"
     ]
    }
   ],
   "source": [
    "# Define and evaluate Ridge regression model\n",
    "ridge = Ridge()\n",
    "print('Ridge linear regression model')\n",
    "func(ridge, X, y)"
   ]
  },
  {
   "source": [
    "We do clearly receive the same results as no further regularization is required to the model of polynominal degree 1"
   ],
   "cell_type": "markdown",
   "metadata": {}
  },
  {
   "cell_type": "code",
   "execution_count": 110,
   "metadata": {},
   "outputs": [
    {
     "output_type": "stream",
     "name": "stdout",
     "text": [
      "Standard linear regression model polinominal degree 1\n",
      "RMSE = 6070.0 | R2 score = 0.747\n",
      "Standard linear regression model polinominal degree 2\n",
      "RMSE = 4934.0 | R2 score = 0.832\n",
      "Standard linear regression model polinominal degree 3\n",
      "RMSE = 5138.0 | R2 score = 0.818\n"
     ]
    }
   ],
   "source": [
    "# Add polinominal features \n",
    "# https://scikit-learn.org/stable/modules/generated/sklearn.preprocessing.PolynomialFeatures.html\n",
    "\n",
    "#Define loop to generate polynominal features with degree 1,2 and 3 for linear regression model:\n",
    "for i in range(1, 4):\n",
    "    poly = PolynomialFeatures(i)\n",
    "    X_transformed =  poly.fit_transform(X)\n",
    "    linreg = LinearRegression()\n",
    "    print(f'Standard linear regression model polinominal degree {i}')\n",
    "    func(linreg, X_transformed, y)"
   ]
  },
  {
   "source": [
    "We clearly see some model improvement using polynominal degree 2"
   ],
   "cell_type": "markdown",
   "metadata": {}
  },
  {
   "cell_type": "code",
   "execution_count": 254,
   "metadata": {},
   "outputs": [],
   "source": [
    "# define function to iterate through polynominal degree and provided alpha parameter\n",
    "# return best combination for polynominal degree and alpha parameter\n",
    "# https://scikit-learn.org/stable/auto_examples/linear_model/plot_ridge_path.html\n",
    "\n",
    "def poly_func(function):\n",
    "    n_alphas = 5\n",
    "    alphas = np.logspace(-4, 0, n_alphas) # define range for alpha iterations\n",
    "    coefs = np.empty([1,4])\n",
    "    for i in range(1, 4):\n",
    "        for j in alphas:\n",
    "            poly = PolynomialFeatures(i)\n",
    "            X_transformed =  poly.fit_transform(X) # creat en extended matrix with additional polynominal features\n",
    "            func = function(max_iter=1000000, alpha= j) # define function\n",
    "            # calculate rmse and r2 scores\n",
    "            rmse = cross_val_score(func, X_transformed, y, cv=5, scoring='neg_root_mean_squared_error')\n",
    "            rmse = -np.round(np.mean(rmse))\n",
    "            score = cross_val_score(func, X_transformed, y, cv=5, scoring='r2')\n",
    "            score = np.round(np.mean(score), 3)\n",
    "            # add scores to array\n",
    "            coefs =  np.vstack((coefs, [i, j, rmse, score]))\n",
    "    # find row index with lowest value of rmse        \n",
    "    index = np.where(coef[:,2] == np.min(coef[:,2]))\n",
    "    # return row\n",
    "    row = coef[index]\n",
    "    print (f'lowest rmse = {row[0,2]} and r2 score = {row[0,3]} is achivied using polynominal degree {row[0,0]} and alpha = {row[0,1]}')"
   ]
  },
  {
   "cell_type": "code",
   "execution_count": 255,
   "metadata": {
    "tags": []
   },
   "outputs": [
    {
     "output_type": "stream",
     "name": "stdout",
     "text": [
      "lowest rmse = 4913.0 and r2 score = 0.833 is achivied using plonominal degree 2.0 and alpha = 1.0\n"
     ]
    }
   ],
   "source": [
    "# Apply function to Ridge linear model\n",
    "poly_func(Ridge)"
   ]
  },
  {
   "source": [
    "We see some improvement comparing to a regular linear model at the polynominal degree 2 using Ridge model. Further model optimization will be needed to achive better model evalulation results."
   ],
   "cell_type": "markdown",
   "metadata": {}
  }
 ]
}