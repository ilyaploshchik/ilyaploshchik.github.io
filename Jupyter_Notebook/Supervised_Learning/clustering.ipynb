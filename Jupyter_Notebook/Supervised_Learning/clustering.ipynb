{
 "metadata": {
  "language_info": {
   "codemirror_mode": {
    "name": "ipython",
    "version": 3
   },
   "file_extension": ".py",
   "mimetype": "text/x-python",
   "name": "python",
   "nbconvert_exporter": "python",
   "pygments_lexer": "ipython3",
   "version": "3.9.4"
  },
  "orig_nbformat": 2,
  "kernelspec": {
   "name": "python394jvsc74a57bd0613fe122287fdb1a4092b1ec324ab5e18de9ec977608057b646301948d1df577",
   "display_name": "Python 3.9.4 64-bit (conda)"
  },
  "metadata": {
   "interpreter": {
    "hash": "22ff6e88767074ebac7b6a076c4915801234e8346ffd7d6094805d8c19db4039"
   }
  }
 },
 "nbformat": 4,
 "nbformat_minor": 2,
 "cells": [
  {
   "source": [
    "# Assignment 4: Unsupervised Learning\n",
    "### ip222gs"
   ],
   "cell_type": "markdown",
   "metadata": {}
  },
  {
   "source": [
    "## Exercise 1: Clustering"
   ],
   "cell_type": "markdown",
   "metadata": {}
  },
  {
   "cell_type": "code",
   "execution_count": 1,
   "metadata": {},
   "outputs": [],
   "source": [
    "import numpy as np\n",
    "from sklearn.cluster import KMeans"
   ]
  },
  {
   "source": [
    "### Implement the clustering algorithm called Bisecting k-Means"
   ],
   "cell_type": "markdown",
   "metadata": {}
  },
  {
   "cell_type": "code",
   "execution_count": null,
   "metadata": {},
   "outputs": [],
   "source": [
    "def bkmeans(X, k, iter):\n",
    "    clusters = []\n",
    "    y= np.zeros(len(X))\n",
    "\n",
    "    # Initial bisecting with number of iterations equal to \"iter\"\n",
    "    # re-using K-Means from Sklearn as allowed by the assignment\n",
    "    kmeans = KMeans(n_clusters=2, random_state=0, n_init=iter)\n",
    "    kmeans.fit(X)\n",
    "    labels = kmeans.labels_\n",
    "    # Initial clusters\n",
    "    X_1 = X[labels == 0]\n",
    "    X_2 = X[labels == 1]\n",
    "    clusters.extend((X_1, X_2)) # save clusters into the list\n",
    "    cluster_values = [clusters[i].shape[0] for i in range(len(clusters))] # number of components in each cluster\n",
    "\n",
    "    for _ in range(k):\n",
    "        # define the cluster with largest amount of observations as accoring to the assignment. NB. using largest quantity cluster  method, not largest SSE method\n",
    "        new_split = clusters.pop(np.argmax(cluster_values)) # remove the largest cluster from list of clusters\n",
    "        # perfroming the same split until achieving the provided amount of clusters \n",
    "        kmeans.fit(new_split)\n",
    "        labels = kmeans.labels_\n",
    "        X_1 = new_split[labels == 0]\n",
    "        X_2 = new_split[labels == 1]\n",
    "        clusters.extend((X_1, X_2))\n",
    "        cluster_values = [clusters[i].shape[0] for i in range(len(clusters))]\n",
    "\n",
    "    for number in range(k):\n",
    "        for i in clusters[number]:\n",
    "            # Find indexes from each cluster in the original dataset\n",
    "            # https://stackoverflow.com/questions/48159608/find-index-of-multiple-elements-in-numpy-array\n",
    "            a = (X_scaled[:, None] == i).argmax(axis=0)[0]\n",
    "            # https://stackoverflow.com/questions/6252280/find-the-most-frequent-number-in-a-numpy-array\n",
    "            # as some of the features could have same values in different observations, we need to ensure to identify the observation there all proper values from the original dataset are included\n",
    "            counts = np.bincount(a) # find most frequent value, which will represent the index of the observations with all values equal to the original dataset\n",
    "            index = np.argmax(counts) # return this value\n",
    "            y[index] = number # assign value to the respective index, by default 1st index will be 0, so 1, 2, etc (limited by the specified number of clusters)\n",
    "    return y"
   ]
  },
  {
   "source": [
    "Function has been stored in its own module for further use in Exercise 3"
   ],
   "cell_type": "markdown",
   "metadata": {}
  }
 ]
}